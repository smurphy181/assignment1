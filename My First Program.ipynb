{
 "cells": [
  {
   "cell_type": "markdown",
   "id": "657df71a",
   "metadata": {},
   "source": [
    "## My First Code in Python"
   ]
  },
  {
   "cell_type": "code",
   "execution_count": 14,
   "id": "947e82c4",
   "metadata": {},
   "outputs": [
    {
     "name": "stdout",
     "output_type": "stream",
     "text": [
      "Aha!! My first line of code!! \n"
     ]
    }
   ],
   "source": [
    "print(\"Aha!! My first line of code!! \")"
   ]
  },
  {
   "cell_type": "markdown",
   "id": "1ec0c75d",
   "metadata": {},
   "source": [
    "### Variables (Identifiers) in Python\\\n",
    "A variable name must be\n",
    "- consists of alphabet, digits, and under scores\n",
    "- cannot start with a digit\n",
    "- may not be a key words"
   ]
  },
  {
   "cell_type": "code",
   "execution_count": 15,
   "id": "5547f653",
   "metadata": {},
   "outputs": [],
   "source": [
    "# define variables and store values\n",
    "fname = \"Robert\"\n",
    "# print(fname)\n",
    "wage_rate = 35.5      # floating point number\n",
    "age = 24              # integer value\n",
    "\n",
    "hours = 42.5 "
   ]
  },
  {
   "cell_type": "code",
   "execution_count": 16,
   "id": "510e2823",
   "metadata": {},
   "outputs": [
    {
     "name": "stdout",
     "output_type": "stream",
     "text": [
      "Robert  weekly wages =  1508.75\n"
     ]
    }
   ],
   "source": [
    "wages = wage_rate * hours   # statement\n",
    "\n",
    "print (fname, \" weekly wages = \", wages)"
   ]
  },
  {
   "cell_type": "markdown",
   "id": "a4b7aa25",
   "metadata": {},
   "source": [
    "## Text Strings are also called Literals"
   ]
  },
  {
   "cell_type": "code",
   "execution_count": 19,
   "id": "a39d45d4",
   "metadata": {},
   "outputs": [
    {
     "name": "stdout",
     "output_type": "stream",
     "text": [
      "the result is =  20736\n"
     ]
    }
   ],
   "source": [
    "number = 12\n",
    "\n",
    "result = number ** 4\n",
    "\n",
    "print( \"the result is = \", result)"
   ]
  },
  {
   "cell_type": "code",
   "execution_count": 22,
   "id": "3b350115",
   "metadata": {},
   "outputs": [
    {
     "data": {
      "text/plain": [
       "'C:\\\\Users\\\\smbmu\\\\Desktop'"
      ]
     },
     "execution_count": 22,
     "metadata": {},
     "output_type": "execute_result"
    }
   ],
   "source": [
    "%pwd"
   ]
  },
  {
   "cell_type": "code",
   "execution_count": null,
   "id": "a18b1d3c",
   "metadata": {},
   "outputs": [],
   "source": []
  }
 ],
 "metadata": {
  "kernelspec": {
   "display_name": "Python 3",
   "language": "python",
   "name": "python3"
  },
  "language_info": {
   "codemirror_mode": {
    "name": "ipython",
    "version": 3
   },
   "file_extension": ".py",
   "mimetype": "text/x-python",
   "name": "python",
   "nbconvert_exporter": "python",
   "pygments_lexer": "ipython3",
   "version": "3.8.8"
  }
 },
 "nbformat": 4,
 "nbformat_minor": 5
}
